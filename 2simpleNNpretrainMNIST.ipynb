{
 "cells": [
  {
   "cell_type": "code",
   "execution_count": 1,
   "id": "24ef7814-944e-4d57-a076-64c1217d5dc1",
   "metadata": {},
   "outputs": [
    {
     "name": "stdout",
     "output_type": "stream",
     "text": [
      "cuda\n"
     ]
    }
   ],
   "source": [
    "import warnings\n",
    "warnings.filterwarnings('ignore')\n",
    "\n",
    "import numpy as np\n",
    "import torch\n",
    "import torch.nn as nn\n",
    "from torchvision import datasets\n",
    "from torchvision.transforms import ToTensor\n",
    "from torchvision import models\n",
    "\n",
    "# Device configuration\n",
    "device = torch.device('cuda' if torch.cuda.is_available() else 'cpu')\n",
    "print(device)"
   ]
  },
  {
   "cell_type": "markdown",
   "id": "537c95a6-22c7-4de3-ba8d-3f6d9bfcb014",
   "metadata": {},
   "source": [
    "## Images are normalized to have pixel values from 0 to 1\n",
    "## The size is [1,28,28]"
   ]
  },
  {
   "cell_type": "code",
   "execution_count": 2,
   "id": "e907fa51-a073-4af5-a6b1-a6c09ac6e77e",
   "metadata": {},
   "outputs": [
    {
     "data": {
      "text/plain": [
       "60000"
      ]
     },
     "execution_count": 2,
     "metadata": {},
     "output_type": "execute_result"
    }
   ],
   "source": [
    "mnist_trainset = datasets.MNIST(root='./data', train=True, download=True, transform=ToTensor())\n",
    "len(mnist_trainset)"
   ]
  },
  {
   "cell_type": "code",
   "execution_count": 3,
   "id": "7e04d7dd-4add-4959-9dbb-a7bb8e76be8b",
   "metadata": {},
   "outputs": [
    {
     "data": {
      "text/plain": [
       "10000"
      ]
     },
     "execution_count": 3,
     "metadata": {},
     "output_type": "execute_result"
    }
   ],
   "source": [
    "mnist_testset = datasets.MNIST(root='./data', train=False, download=True, transform=ToTensor())\n",
    "len(mnist_testset)"
   ]
  },
  {
   "cell_type": "code",
   "execution_count": 4,
   "id": "e7ba58ba-7fc0-4e01-8cf7-db361615915f",
   "metadata": {},
   "outputs": [],
   "source": [
    "batch_size = 64"
   ]
  },
  {
   "cell_type": "code",
   "execution_count": 5,
   "id": "c6f3b7a5-07c0-4934-9966-b065aecf7e3a",
   "metadata": {},
   "outputs": [
    {
     "data": {
      "text/plain": [
       "['0 - zero',\n",
       " '1 - one',\n",
       " '2 - two',\n",
       " '3 - three',\n",
       " '4 - four',\n",
       " '5 - five',\n",
       " '6 - six',\n",
       " '7 - seven',\n",
       " '8 - eight',\n",
       " '9 - nine']"
      ]
     },
     "execution_count": 5,
     "metadata": {},
     "output_type": "execute_result"
    }
   ],
   "source": [
    "mnist_trainset.classes"
   ]
  },
  {
   "cell_type": "code",
   "execution_count": 6,
   "id": "201cce54-dc97-40fa-99d5-379b533c7a61",
   "metadata": {},
   "outputs": [],
   "source": [
    "train_loader = torch.utils.data.DataLoader(mnist_trainset, batch_size=batch_size, shuffle=True)\n",
    "test_loader = torch.utils.data.DataLoader(mnist_testset, batch_size=batch_size)"
   ]
  },
  {
   "cell_type": "code",
   "execution_count": 7,
   "id": "516379dc-2870-48e4-8d97-f6b926b780b7",
   "metadata": {},
   "outputs": [
    {
     "name": "stdout",
     "output_type": "stream",
     "text": [
      "torch.Size([64, 1, 28, 28])\n"
     ]
    },
    {
     "data": {
      "image/png": "[encoded data removed]",
      "text/plain": [
       "<Figure size 1000x800 with 15 Axes>"
      ]
     },
     "metadata": {},
     "output_type": "display_data"
    }
   ],
   "source": [
    "import matplotlib.pyplot as plt\n",
    "\n",
    "\n",
    "for images, labels in train_loader:\n",
    "    print(images.shape)\n",
    "    break\n",
    "    \n",
    "plt.figure(figsize=(10,8))\n",
    "for i in range(15):\n",
    "    plt.subplot(3,5,i+1)\n",
    "    plt.imshow(images[i].permute(1, 2, 0))\n",
    "    plt.xticks([], [])\n",
    "    plt.yticks([], [])\n",
    "plt.tight_layout()"
   ]
  },
  {
   "cell_type": "markdown",
   "id": "ed8af907-8cf6-49f2-885c-86ce03f0edec",
   "metadata": {},
   "source": [
    "# I load resnet18 from torchvision and change first and last layer to fit the image size and number of classes"
   ]
  },
  {
   "cell_type": "code",
   "execution_count": 8,
   "id": "7e21b3d4-ff9a-4b9a-972e-b487f95b14c9",
   "metadata": {},
   "outputs": [
    {
     "name": "stdout",
     "output_type": "stream",
     "text": [
      "model defined\n"
     ]
    }
   ],
   "source": [
    "model = models.resnet18(pretrained=False)\n",
    "\n",
    "def change_layers(model):\n",
    "    model.conv1 = nn.Conv2d(1, 64, kernel_size=(7, 7), stride=(2, 2), padding=(3, 3), bias=False)\n",
    "    model.fc = nn.Linear(512, 10, bias=True)\n",
    "    \n",
    "change_layers(model)\n",
    "model.to(device)\n",
    "print('model defined')"
   ]
  },
  {
   "cell_type": "code",
   "execution_count": 9,
   "id": "5249cf0f-b14b-4ec1-bef5-c46ace9611c9",
   "metadata": {},
   "outputs": [],
   "source": [
    "num_epochs = 3\n",
    "learning_rate = 0.01\n",
    "\n",
    "# Loss and optimizer\n",
    "criterion = nn.CrossEntropyLoss()\n",
    "optimizer = torch.optim.SGD(model.parameters(), lr=learning_rate, weight_decay = 0.001, momentum = 0.9)  "
   ]
  },
  {
   "cell_type": "code",
   "execution_count": 10,
   "id": "2c3d8263-66f5-49b3-ac89-1688f09c8f71",
   "metadata": {},
   "outputs": [
    {
     "name": "stdout",
     "output_type": "stream",
     "text": [
      "Epoch [1/3], Loss: 0.0886\n",
      "Accuracy of the network on the 10000 test images: 98.21 %\n",
      "Epoch [2/3], Loss: 0.0037\n",
      "Accuracy of the network on the 10000 test images: 98.84 %\n",
      "Epoch [3/3], Loss: 0.0116\n",
      "Accuracy of the network on the 10000 test images: 98.9 %\n"
     ]
    }
   ],
   "source": [
    "# Train the model\n",
    "for epoch in range(num_epochs):\n",
    "    for i, (images, labels) in enumerate(train_loader):  \n",
    "        # Move tensors to the configured device\n",
    "        images = images.to(device)\n",
    "        labels = labels.to(device)\n",
    "        \n",
    "        # Forward pass\n",
    "        outputs = model(images)\n",
    "        loss = criterion(outputs, labels)\n",
    "        \n",
    "        # Backward and optimize\n",
    "        optimizer.zero_grad()\n",
    "        loss.backward()\n",
    "        optimizer.step()\n",
    "        torch.cuda.empty_cache()\n",
    "\n",
    "    print ('Epoch [{}/{}], Loss: {:.4f}' \n",
    "                   .format(epoch+1, num_epochs, loss.item()))\n",
    "            \n",
    "    # Validation\n",
    "    with torch.no_grad():\n",
    "        correct = 0\n",
    "        total = 0\n",
    "        for images, labels in test_loader:\n",
    "            images = images.to(device)\n",
    "            labels = labels.to(device)\n",
    "            outputs = model(images)\n",
    "            _, predicted = torch.max(outputs.data, 1)\n",
    "            total += labels.size(0)\n",
    "            correct += (predicted == labels).sum().item()\n",
    "    \n",
    "        print('Accuracy of the network on the {} test images: {} %'.format(10000, 100 * correct / total)) "
   ]
  },
  {
   "cell_type": "markdown",
   "id": "23680aa1-f809-412d-8986-59df4f9e9c07",
   "metadata": {},
   "source": [
    "# Three epochs of the training gives very good performance and is enough for the purpose of embedding"
   ]
  },
  {
   "cell_type": "code",
   "execution_count": 11,
   "id": "338e9f52-fb1f-4b50-90d5-78e13235de39",
   "metadata": {},
   "outputs": [],
   "source": [
    "model_scripted = torch.jit.script(model) # Export to TorchScript\n",
    "model_scripted.save('resnet18MNIST.pt') # Save"
   ]
  },
  {
   "cell_type": "code",
   "execution_count": 12,
   "id": "650bc376-9051-48f7-86e0-9a0abc0b1863",
   "metadata": {},
   "outputs": [],
   "source": [
    "torch.save(model, 'resnet18MNIST')"
   ]
  }
 ],
 "metadata": {
  "kernelspec": {
   "display_name": "Python 3 (ipykernel)",
   "language": "python",
   "name": "python3"
  },
  "language_info": {
   "codemirror_mode": {
    "name": "ipython",
    "version": 3
   },
   "file_extension": ".py",
   "mimetype": "text/x-python",
   "name": "python",
   "nbconvert_exporter": "python",
   "pygments_lexer": "ipython3",
   "version": "3.10.12"
  }
 },
 "nbformat": 4,
 "nbformat_minor": 5
}
